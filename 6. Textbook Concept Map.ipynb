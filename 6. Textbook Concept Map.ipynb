{
 "cells": [
  {
   "cell_type": "code",
   "execution_count": 1,
   "metadata": {
    "collapsed": true
   },
   "outputs": [],
   "source": [
    "import os\n",
    "import pickle\n",
    "import numpy as np\n",
    "import pandas as pd\n",
    "import networkx as nx\n",
    "import matplotlib.pyplot as plt\n",
    "\n",
    "output_dir = 'output/'\n",
    "metadata_file = 'data/metadata.csv'\n",
    "annotations_file = 'data/annotations.pkl'"
   ]
  },
  {
   "cell_type": "markdown",
   "metadata": {},
   "source": [
    "## Parameters for the concept map\n",
    "*min_concept_occurrence*: # of times a concept needs to occur in a textbook to be considered\n",
    "*textbook_parts*: # of equal parts the textbook is divided into for binning"
   ]
  },
  {
   "cell_type": "code",
   "execution_count": 2,
   "metadata": {
    "collapsed": true
   },
   "outputs": [],
   "source": [
    "min_concept_occurrence = 50\n",
    "textbook_parts = 50\n",
    "max_edge_pct_distance = 0.08"
   ]
  },
  {
   "cell_type": "markdown",
   "metadata": {},
   "source": [
    "## Load metadata"
   ]
  },
  {
   "cell_type": "code",
   "execution_count": 3,
   "metadata": {
    "collapsed": true
   },
   "outputs": [],
   "source": [
    "metadata = pd.read_csv(metadata_file, dtype = {'ISBN': 'str'})"
   ]
  },
  {
   "cell_type": "markdown",
   "metadata": {},
   "source": [
    "## Load annotations"
   ]
  },
  {
   "cell_type": "code",
   "execution_count": 4,
   "metadata": {
    "collapsed": true
   },
   "outputs": [],
   "source": [
    "def extract_spotlight_concept_and_location(annotation):\n",
    "    return annotation['URI'].split('/resource/')[-1], annotation['offset']\n",
    "\n",
    "isbns = metadata['ISBN']\n",
    "\n",
    "with open(annotations_file, 'rb') as fp:\n",
    "    annotations = pickle.load(fp) "
   ]
  },
  {
   "cell_type": "markdown",
   "metadata": {},
   "source": [
    "## Extract concepts"
   ]
  },
  {
   "cell_type": "code",
   "execution_count": 5,
   "metadata": {
    "collapsed": true
   },
   "outputs": [],
   "source": [
    "concepts_df = pd.DataFrame()\n",
    "for isbn in isbns:\n",
    "    concepts = [extract_spotlight_concept_and_location(ann) \n",
    "                for ann in annotations[isbn]]\n",
    "    concept, loc = zip(*concepts)\n",
    "    max_loc = max(loc)\n",
    "    concepts_df = concepts_df.append(\n",
    "        pd.DataFrame({\n",
    "                      'concept': concept,\n",
    "                      'location': [lll / max_loc for lll in loc],\n",
    "                      'ISBN': isbn\n",
    "                    }))         "
   ]
  },
  {
   "cell_type": "code",
   "execution_count": 6,
   "metadata": {},
   "outputs": [
    {
     "data": {
      "text/html": [
       "<div>\n",
       "<table border=\"1\" class=\"dataframe\">\n",
       "  <thead>\n",
       "    <tr style=\"text-align: right;\">\n",
       "      <th></th>\n",
       "      <th>ISBN</th>\n",
       "      <th>count</th>\n",
       "      <th>unique_concepts</th>\n",
       "      <th>title</th>\n",
       "      <th>author</th>\n",
       "      <th>subject</th>\n",
       "      <th>imprint</th>\n",
       "      <th>sold_by</th>\n",
       "      <th>start_page</th>\n",
       "      <th>end_page</th>\n",
       "    </tr>\n",
       "  </thead>\n",
       "  <tbody>\n",
       "    <tr>\n",
       "      <th>0</th>\n",
       "      <td>9781429219617</td>\n",
       "      <td>4383</td>\n",
       "      <td>41787</td>\n",
       "      <td>BIOLOGY OF PLANTS</td>\n",
       "      <td>PETER H RAVEN</td>\n",
       "      <td>BIOLOGY</td>\n",
       "      <td>FREEMAN/WORTH</td>\n",
       "      <td>Macmillan Higher Education</td>\n",
       "      <td>21</td>\n",
       "      <td>747</td>\n",
       "    </tr>\n",
       "    <tr>\n",
       "      <th>1</th>\n",
       "      <td>9781429242301</td>\n",
       "      <td>2516</td>\n",
       "      <td>10084</td>\n",
       "      <td>INTRODUCING PSYCHOLOGY</td>\n",
       "      <td>DANIEL L SCHACTER</td>\n",
       "      <td>PSYCHOLOGY</td>\n",
       "      <td>FREEMAN/WORTH</td>\n",
       "      <td>Macmillan Higher Education</td>\n",
       "      <td>38</td>\n",
       "      <td>526</td>\n",
       "    </tr>\n",
       "    <tr>\n",
       "      <th>2</th>\n",
       "      <td>9781429298643</td>\n",
       "      <td>7083</td>\n",
       "      <td>76427</td>\n",
       "      <td>LIFE: THE SCIENCE OF BIOLOGY</td>\n",
       "      <td>DAVID E SADAVA</td>\n",
       "      <td>BIOLOGY</td>\n",
       "      <td>FREEMAN/WORTH</td>\n",
       "      <td>Macmillan Higher Education</td>\n",
       "      <td>51</td>\n",
       "      <td>1297</td>\n",
       "    </tr>\n",
       "    <tr>\n",
       "      <th>3</th>\n",
       "      <td>9781429298902</td>\n",
       "      <td>1432</td>\n",
       "      <td>7970</td>\n",
       "      <td>PSYCHOLOGY: A CONCISE INTRODUCTION</td>\n",
       "      <td>RICHARD A GRIGGS</td>\n",
       "      <td>PSYCHOLOGY</td>\n",
       "      <td>WORTH PUBLISHERS</td>\n",
       "      <td>Macmillan Higher Education</td>\n",
       "      <td>22</td>\n",
       "      <td>464</td>\n",
       "    </tr>\n",
       "    <tr>\n",
       "      <th>4</th>\n",
       "      <td>9781464126147</td>\n",
       "      <td>3733</td>\n",
       "      <td>54360</td>\n",
       "      <td>MOLECULAR BIOLOGY: PRINCIPLES AND PRACTICE</td>\n",
       "      <td>MICHAEL M COX</td>\n",
       "      <td>BIOLOGY</td>\n",
       "      <td>W. H. FREEMAN</td>\n",
       "      <td>Macmillan Higher Education</td>\n",
       "      <td>30</td>\n",
       "      <td>828</td>\n",
       "    </tr>\n",
       "    <tr>\n",
       "      <th>5</th>\n",
       "      <td>9781464135958</td>\n",
       "      <td>2733</td>\n",
       "      <td>23537</td>\n",
       "      <td>WHAT IS LIFE? A GUIDE TO BIOLOGY</td>\n",
       "      <td>JAY PHELAN</td>\n",
       "      <td>BIOLOGY</td>\n",
       "      <td>FREEMAN/WORTH</td>\n",
       "      <td>Macmillan Higher Education</td>\n",
       "      <td>34</td>\n",
       "      <td>718</td>\n",
       "    </tr>\n",
       "    <tr>\n",
       "      <th>6</th>\n",
       "      <td>9781464140815</td>\n",
       "      <td>3723</td>\n",
       "      <td>14470</td>\n",
       "      <td>PSYCHOLOGY</td>\n",
       "      <td>DAVID G MYERS</td>\n",
       "      <td>PSYCHOLOGY</td>\n",
       "      <td>FREEMAN/WORTH</td>\n",
       "      <td>Macmillan Higher Education</td>\n",
       "      <td>59</td>\n",
       "      <td>751</td>\n",
       "    </tr>\n",
       "    <tr>\n",
       "      <th>7</th>\n",
       "      <td>9781464154072</td>\n",
       "      <td>3414</td>\n",
       "      <td>13578</td>\n",
       "      <td>EXPLORING PSYCHOLOGY</td>\n",
       "      <td>DAVID G MYERS</td>\n",
       "      <td>PSYCHOLOGY</td>\n",
       "      <td>WORTH PUBLISHERS</td>\n",
       "      <td>Macmillan Higher Education</td>\n",
       "      <td>59</td>\n",
       "      <td>662</td>\n",
       "    </tr>\n",
       "    <tr>\n",
       "      <th>8</th>\n",
       "      <td>9781464171703</td>\n",
       "      <td>3294</td>\n",
       "      <td>15505</td>\n",
       "      <td>ABNORMAL PSYCHOLOGY</td>\n",
       "      <td>RONALD J COMER</td>\n",
       "      <td>PSYCHOLOGY</td>\n",
       "      <td>WORTH PUBLISHERS</td>\n",
       "      <td>Macmillan Higher Education</td>\n",
       "      <td>33</td>\n",
       "      <td>699</td>\n",
       "    </tr>\n",
       "  </tbody>\n",
       "</table>\n",
       "</div>"
      ],
      "text/plain": [
       "            ISBN  count  unique_concepts  \\\n",
       "0  9781429219617   4383            41787   \n",
       "1  9781429242301   2516            10084   \n",
       "2  9781429298643   7083            76427   \n",
       "3  9781429298902   1432             7970   \n",
       "4  9781464126147   3733            54360   \n",
       "5  9781464135958   2733            23537   \n",
       "6  9781464140815   3723            14470   \n",
       "7  9781464154072   3414            13578   \n",
       "8  9781464171703   3294            15505   \n",
       "\n",
       "                                        title             author     subject  \\\n",
       "0                           BIOLOGY OF PLANTS      PETER H RAVEN     BIOLOGY   \n",
       "1                      INTRODUCING PSYCHOLOGY  DANIEL L SCHACTER  PSYCHOLOGY   \n",
       "2                LIFE: THE SCIENCE OF BIOLOGY     DAVID E SADAVA     BIOLOGY   \n",
       "3          PSYCHOLOGY: A CONCISE INTRODUCTION   RICHARD A GRIGGS  PSYCHOLOGY   \n",
       "4  MOLECULAR BIOLOGY: PRINCIPLES AND PRACTICE      MICHAEL M COX     BIOLOGY   \n",
       "5            WHAT IS LIFE? A GUIDE TO BIOLOGY         JAY PHELAN     BIOLOGY   \n",
       "6                                  PSYCHOLOGY      DAVID G MYERS  PSYCHOLOGY   \n",
       "7                        EXPLORING PSYCHOLOGY      DAVID G MYERS  PSYCHOLOGY   \n",
       "8                         ABNORMAL PSYCHOLOGY     RONALD J COMER  PSYCHOLOGY   \n",
       "\n",
       "            imprint                     sold_by  start_page  end_page  \n",
       "0     FREEMAN/WORTH  Macmillan Higher Education          21       747  \n",
       "1     FREEMAN/WORTH  Macmillan Higher Education          38       526  \n",
       "2     FREEMAN/WORTH  Macmillan Higher Education          51      1297  \n",
       "3  WORTH PUBLISHERS  Macmillan Higher Education          22       464  \n",
       "4     W. H. FREEMAN  Macmillan Higher Education          30       828  \n",
       "5     FREEMAN/WORTH  Macmillan Higher Education          34       718  \n",
       "6     FREEMAN/WORTH  Macmillan Higher Education          59       751  \n",
       "7  WORTH PUBLISHERS  Macmillan Higher Education          59       662  \n",
       "8  WORTH PUBLISHERS  Macmillan Higher Education          33       699  "
      ]
     },
     "execution_count": 6,
     "metadata": {},
     "output_type": "execute_result"
    }
   ],
   "source": [
    "summary_df = (concepts_df\n",
    "              .groupby('ISBN')['concept']\n",
    "              .agg({'count', lambda x: len(set(x))}))\n",
    "summary_df = summary_df.reset_index()\n",
    "summary_df.columns = ['ISBN', 'count' ,'unique_concepts']\n",
    "\n",
    "metadata = pd.merge(summary_df, metadata, on = 'ISBN')\n",
    "metadata"
   ]
  },
  {
   "cell_type": "markdown",
   "metadata": {},
   "source": [
    "## Top Concepts"
   ]
  },
  {
   "cell_type": "code",
   "execution_count": 7,
   "metadata": {
    "collapsed": true
   },
   "outputs": [],
   "source": [
    "concept_count_df = concepts_df.groupby(['concept', 'ISBN'])['location'].count().reset_index()\n",
    "concept_count_df.columns = ['concept', 'ISBN', 'count']\n",
    "concept_count_df = concept_count_df.sort_values('count', ascending=False)\n",
    "\n",
    "concept_count_df = concept_count_df[concept_count_df['count'] >= min_concept_occurrence]\n",
    "concepts_keep = set(concept_count_df['concept'].values)\n",
    "\n",
    "concepts_df = concepts_df[concepts_df['concept'].map(lambda x: x in concepts_keep)]"
   ]
  },
  {
   "cell_type": "markdown",
   "metadata": {},
   "source": [
    "## Bin the location of each concept's occurrence"
   ]
  },
  {
   "cell_type": "code",
   "execution_count": 8,
   "metadata": {
    "collapsed": true
   },
   "outputs": [],
   "source": [
    "location_splits = [r / textbook_parts for r in range(textbook_parts)]\n",
    "concepts_df['location_bin'] = np.digitize(concepts_df['location'], location_splits)"
   ]
  },
  {
   "cell_type": "code",
   "execution_count": 9,
   "metadata": {
    "collapsed": true
   },
   "outputs": [],
   "source": [
    "concept_locations = (concepts_df\n",
    "                     .groupby(['location_bin', 'ISBN', 'concept'])\n",
    "                     .count()\n",
    "                     .reset_index()\n",
    "                     .rename(columns={'location': 'count'}))\n",
    "\n",
    "concept_location_matrices = {isbn:\n",
    "                            (concept_locations\n",
    "                             .query(\"ISBN==@isbn\")\n",
    "                             .pivot(index='location_bin',\n",
    "                                    columns='concept',\n",
    "                                    values='count')\n",
    "                             .fillna(0))\n",
    "                            for isbn in isbns}"
   ]
  },
  {
   "cell_type": "markdown",
   "metadata": {},
   "source": [
    "## Build location metrics for each concept\n",
    "Here we are summarizing where the concept first occurs in the book and where it occurs the most often."
   ]
  },
  {
   "cell_type": "code",
   "execution_count": 10,
   "metadata": {
    "collapsed": true
   },
   "outputs": [],
   "source": [
    "def location_metrics(x):\n",
    "    max_count = x['count'].max()\n",
    "    total_count = x['count'].sum()\n",
    "    \n",
    "    all_locs = []\n",
    "    for loc, count in zip(x['location_bin'], x['count']):\n",
    "        all_locs.extend([loc] * count)\n",
    "        \n",
    "    first_quartile = all_locs[int(len(all_locs) / 4)]\n",
    "          \n",
    "    metrics = {\n",
    "        'total_count': total_count,\n",
    "        'first_quartile_bin': first_quartile,\n",
    "        'common_bin': x.query('count == @max_count')['location_bin'].min()\n",
    "    }\n",
    "    return pd.Series(metrics)\n",
    "\n",
    "concept_bins = (concept_locations\n",
    "                .groupby(['ISBN', 'concept'])\n",
    "                .apply(location_metrics)                \n",
    "                .query('total_count >= @min_concept_occurrence')\n",
    "                .sort_values('common_bin')\n",
    "                .reset_index())"
   ]
  },
  {
   "cell_type": "markdown",
   "metadata": {},
   "source": [
    "## Find the distance between concepts in each book\n",
    "Negative numbers indicate a concept occurs first"
   ]
  },
  {
   "cell_type": "code",
   "execution_count": null,
   "metadata": {
    "collapsed": true
   },
   "outputs": [],
   "source": [
    "def create_distance_dataframe(concept_bin):\n",
    "    bin_types = ['common_bin', 'first_quartile_bin']\n",
    "    full_df = pd.DataFrame()\n",
    "    for bin_type in bin_types:\n",
    "        vec = concept_bin[bin_type]\n",
    "        mat = np.repeat(vec[np.newaxis, :], len(vec), axis=0)\n",
    "        # Positive means the concept occurs first\n",
    "        distance_mat = (mat - mat.T) / textbook_parts\n",
    "        concept2 = concept_bin['concept'].values\n",
    "        distance_df = pd.DataFrame(distance_mat, \n",
    "                                   index=concept_bin['concept'],\n",
    "                                   columns=concept2)\n",
    "\n",
    "        distance_df = distance_df.stack().reset_index()\n",
    "        distance_df.columns = ['concept', 'concept2', 'distance_{}'.format(bin_type)]\n",
    "        if len(full_df) == 0:\n",
    "            full_df = distance_df\n",
    "        else:\n",
    "            full_df = pd.merge(full_df, distance_df, on=['concept', 'concept2'])\n",
    "        \n",
    "    full_df = full_df[full_df['concept'] != full_df['concept2']]\n",
    "    \n",
    "    full_df = pd.merge(full_df, \n",
    "                       (concept_bin[['ISBN', 'concept', 'total_count']]\n",
    "                        .rename(columns={'total_count': 'count'})), \n",
    "                        on='concept')\n",
    "    full_df = pd.merge(full_df, \n",
    "                       (concept_bin[['concept', 'total_count']]\n",
    "                        .rename(columns={'concept': 'concept2', 'total_count': 'count2'})), \n",
    "                        on='concept2')\n",
    "\n",
    "    full_df['cooccurrence'] = full_df[['count', 'count2']].min(axis=1)\n",
    "    return full_df\n",
    "\n",
    "distance_df = pd.concat([\n",
    "    create_distance_dataframe(concept_bins.query('ISBN==@isbn')) \n",
    "        for isbn in isbns\n",
    "])"
   ]
  },
  {
   "cell_type": "markdown",
   "metadata": {},
   "source": [
    "## Combine the distance metrics across books"
   ]
  },
  {
   "cell_type": "code",
   "execution_count": null,
   "metadata": {
    "collapsed": true
   },
   "outputs": [],
   "source": [
    "def distance_summary_metrics(x):\n",
    "    count = x['cooccurrence'].sum()\n",
    "    titles = len(x['ISBN'].unique())\n",
    "    metrics = {\n",
    "        'n_titles': titles,\n",
    "        'total_count': count,\n",
    "        'distance_common': (x['distance_common_bin'] *\n",
    "                            x['cooccurrence']).sum() / count,\n",
    "        'distance_first_quartile': (x['distance_first_quartile_bin'] *\n",
    "                                    x['cooccurrence']).sum() / count\n",
    "    }\n",
    "    return pd.Series(metrics)\n",
    "\n",
    "distance_summary = (distance_df\n",
    "                    .groupby(['concept', 'concept2'])\n",
    "                    .apply(distance_summary_metrics)\n",
    "                    .reset_index())"
   ]
  },
  {
   "cell_type": "code",
   "execution_count": null,
   "metadata": {
    "collapsed": true
   },
   "outputs": [],
   "source": [
    "distance_filtered = (distance_summary\n",
    "                     .query('distance_first_quartile >= 0 & '\n",
    "                            'distance_first_quartile <= @max_edge_pct_distance'))\n",
    "\n",
    "print('Total concepts: {}'.format(len(distance_filtered['concept'].unique())))\n",
    "\n",
    "(distance_filtered\n",
    " .sort_values('total_count', ascending=False)\n",
    " .head(10)\n",
    " .style.format({'distance_common': \"{:.2f}\",\n",
    "                'distance_first_quartile': \"{:.2f}\"}))"
   ]
  },
  {
   "cell_type": "markdown",
   "metadata": {},
   "source": [
    "## Create directed graph from this list of concept pairs"
   ]
  },
  {
   "cell_type": "code",
   "execution_count": null,
   "metadata": {
    "collapsed": true
   },
   "outputs": [],
   "source": [
    "distance_filtered.to_csv(os.path.join(output_dir, 'graph_adj_list.csv'), index=False)\n",
    "\n",
    "G = nx.from_pandas_dataframe(distance_filtered,\n",
    "                             source='concept',\n",
    "                             target='concept2',\n",
    "                             edge_attr=['distance_common',\n",
    "                                        'distance_first_quartile',\n",
    "                                        'total_count',\n",
    "                                        'n_titles'],\n",
    "                             create_using=nx.DiGraph())"
   ]
  },
  {
   "cell_type": "markdown",
   "metadata": {},
   "source": [
    "## Plot a sample concept's related nodes"
   ]
  },
  {
   "cell_type": "code",
   "execution_count": null,
   "metadata": {
    "collapsed": true
   },
   "outputs": [],
   "source": [
    "concept = 'Gene'\n",
    "\n",
    "pre_concepts = nx.DiGraph([(n, u) for n, u in G.edges() if u == concept])\n",
    "post_concepts = nx.DiGraph([(n, u) for n, u in G.edges() if n == concept])"
   ]
  },
  {
   "cell_type": "markdown",
   "metadata": {},
   "source": [
    "### Prerequisites"
   ]
  },
  {
   "cell_type": "code",
   "execution_count": null,
   "metadata": {
    "collapsed": true
   },
   "outputs": [],
   "source": [
    "plt.figure(figsize=(16,12))\n",
    "limits=plt.axis('off')\n",
    "\n",
    "pos = nx.spring_layout(pre_concepts)\n",
    "# nx.draw_networkx_nodes(pre_concepts, pos)\n",
    "nx.draw_networkx_edges(pre_concepts, pos, arrows=False, edge_color='lightgrey')\n",
    "nx.draw_networkx_labels(pre_concepts, pos, font_color='red', font_size=16)\n",
    "\n",
    "plt.show()"
   ]
  },
  {
   "cell_type": "markdown",
   "metadata": {},
   "source": [
    "### Postrequisites"
   ]
  },
  {
   "cell_type": "code",
   "execution_count": null,
   "metadata": {
    "collapsed": true
   },
   "outputs": [],
   "source": [
    "plt.figure(figsize=(16,12))\n",
    "limits=plt.axis('off')\n",
    "\n",
    "pos = nx.spring_layout(post_concepts)\n",
    "# nx.draw_networkx_nodes(post_concepts, pos)\n",
    "nx.draw_networkx_edges(post_concepts, pos, arrows=False, edge_color='lightgrey')\n",
    "nx.draw_networkx_labels(post_concepts, pos, font_color='red', font_size=16)\n",
    "\n",
    "plt.show()"
   ]
  }
 ],
 "metadata": {
  "kernelspec": {
   "display_name": "Python 3",
   "language": "python",
   "name": "python3"
  },
  "language_info": {
   "codemirror_mode": {
    "name": "ipython",
    "version": 3
   },
   "file_extension": ".py",
   "mimetype": "text/x-python",
   "name": "python",
   "nbconvert_exporter": "python",
   "pygments_lexer": "ipython3",
   "version": "3.5.2"
  }
 },
 "nbformat": 4,
 "nbformat_minor": 2
}
