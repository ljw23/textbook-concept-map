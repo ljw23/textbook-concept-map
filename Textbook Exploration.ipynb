{
 "cells": [
  {
   "cell_type": "markdown",
   "metadata": {},
   "source": [
    "Tasks\n",
    "* Finish doing research into the existing solutions and consolidate knowledge on their technical approaches\n",
    "* Assemble existing code bases on GitHub for using DBpedia to extract knowledge\n",
    "* Learn pdfminer and write code to parse textbooks in PDF form\n",
    "* Extract section headers and table of contents, if possible\n",
    "* Perform basic NLP using SpaCy\n",
    "\n",
    "Deliverables\n",
    "* Proof that the textbooks have been successfully parsed: number of words, most common words\n",
    "* Most common words (entities?) by textbook\n",
    "* Structure of each textbook as parsed by the pipeline (table of contents or chapter headings) [optional]"
   ]
  },
  {
   "cell_type": "code",
   "execution_count": 18,
   "metadata": {
    "collapsed": true
   },
   "outputs": [],
   "source": [
    "import os\n",
    "import re\n",
    "import io\n",
    "import pickle\n",
    "import pandas as pd\n",
    "import spacy\n",
    "import spotlight\n",
    "    \n",
    "input_dir = 'textbooks/'\n",
    "data_dir = 'data/'\n",
    "metadata_file = 'data/metadata.csv'\n",
    "toc_file = 'toc.pkl'\n",
    "text_file = 'text.pkl'\n",
    "spotlight_server = 'http://192.168.99.101:2222/rest/annotate'"
   ]
  },
  {
   "cell_type": "markdown",
   "metadata": {},
   "source": [
    "## Load data and spacy model"
   ]
  },
  {
   "cell_type": "code",
   "execution_count": 2,
   "metadata": {
    "collapsed": true
   },
   "outputs": [],
   "source": [
    "isbns = os.listdir(input_dir)\n",
    "\n",
    "with open(os.path.join(data_dir, toc_file), 'rb') as fp:\n",
    "    all_toc = pickle.load(fp) \n",
    "\n",
    "with open(os.path.join(data_dir, text_file), 'rb') as fp:\n",
    "    all_text = pickle.load(fp) \n",
    "    \n",
    "nlp = spacy.load('en_core_web_md')"
   ]
  },
  {
   "cell_type": "markdown",
   "metadata": {},
   "source": [
    "## Load metadata and calculate number of pages"
   ]
  },
  {
   "cell_type": "code",
   "execution_count": 3,
   "metadata": {},
   "outputs": [
    {
     "data": {
      "text/html": [
       "<div>\n",
       "<table border=\"1\" class=\"dataframe\">\n",
       "  <thead>\n",
       "    <tr style=\"text-align: right;\">\n",
       "      <th></th>\n",
       "      <th>ISBN</th>\n",
       "      <th>title</th>\n",
       "      <th>author</th>\n",
       "      <th>imprint</th>\n",
       "      <th>sold_by</th>\n",
       "      <th>start_page</th>\n",
       "      <th>end_page</th>\n",
       "      <th>num_pages</th>\n",
       "    </tr>\n",
       "  </thead>\n",
       "  <tbody>\n",
       "    <tr>\n",
       "      <th>0</th>\n",
       "      <td>9781429219617</td>\n",
       "      <td>BIOLOGY OF PLANTS</td>\n",
       "      <td>PETER H RAVEN</td>\n",
       "      <td>FREEMAN/WORTH</td>\n",
       "      <td>Macmillan Higher Education</td>\n",
       "      <td>21</td>\n",
       "      <td>747</td>\n",
       "      <td>863</td>\n",
       "    </tr>\n",
       "    <tr>\n",
       "      <th>1</th>\n",
       "      <td>9781429242301</td>\n",
       "      <td>INTRODUCING PSYCHOLOGY</td>\n",
       "      <td>DANIEL L SCHACTER</td>\n",
       "      <td>FREEMAN/WORTH</td>\n",
       "      <td>Macmillan Higher Education</td>\n",
       "      <td>38</td>\n",
       "      <td>526</td>\n",
       "      <td>616</td>\n",
       "    </tr>\n",
       "    <tr>\n",
       "      <th>2</th>\n",
       "      <td>9781429298643</td>\n",
       "      <td>LIFE: THE SCIENCE OF BIOLOGY</td>\n",
       "      <td>DAVID E SADAVA</td>\n",
       "      <td>FREEMAN/WORTH</td>\n",
       "      <td>Macmillan Higher Education</td>\n",
       "      <td>51</td>\n",
       "      <td>1297</td>\n",
       "      <td>1447</td>\n",
       "    </tr>\n",
       "    <tr>\n",
       "      <th>3</th>\n",
       "      <td>9781429298902</td>\n",
       "      <td>PSYCHOLOGY: A CONCISE INTRODUCTION</td>\n",
       "      <td>RICHARD A GRIGGS</td>\n",
       "      <td>WORTH PUBLISHERS</td>\n",
       "      <td>Macmillan Higher Education</td>\n",
       "      <td>22</td>\n",
       "      <td>464</td>\n",
       "      <td>545</td>\n",
       "    </tr>\n",
       "    <tr>\n",
       "      <th>4</th>\n",
       "      <td>9781464126147</td>\n",
       "      <td>MOLECULAR BIOLOGY: PRINCIPLES AND PRACTICE</td>\n",
       "      <td>MICHAEL M COX</td>\n",
       "      <td>W. H. FREEMAN</td>\n",
       "      <td>Macmillan Higher Education</td>\n",
       "      <td>30</td>\n",
       "      <td>828</td>\n",
       "      <td>934</td>\n",
       "    </tr>\n",
       "    <tr>\n",
       "      <th>5</th>\n",
       "      <td>9781464135958</td>\n",
       "      <td>WHAT IS LIFE? A GUIDE TO BIOLOGY</td>\n",
       "      <td>JAY PHELAN</td>\n",
       "      <td>FREEMAN/WORTH</td>\n",
       "      <td>Macmillan Higher Education</td>\n",
       "      <td>34</td>\n",
       "      <td>718</td>\n",
       "      <td>773</td>\n",
       "    </tr>\n",
       "    <tr>\n",
       "      <th>6</th>\n",
       "      <td>9781464140815</td>\n",
       "      <td>PSYCHOLOGY</td>\n",
       "      <td>DAVID G MYERS</td>\n",
       "      <td>FREEMAN/WORTH</td>\n",
       "      <td>Macmillan Higher Education</td>\n",
       "      <td>59</td>\n",
       "      <td>751</td>\n",
       "      <td>985</td>\n",
       "    </tr>\n",
       "    <tr>\n",
       "      <th>7</th>\n",
       "      <td>9781464154072</td>\n",
       "      <td>EXPLORING PSYCHOLOGY</td>\n",
       "      <td>DAVID G MYERS</td>\n",
       "      <td>WORTH PUBLISHERS</td>\n",
       "      <td>Macmillan Higher Education</td>\n",
       "      <td>59</td>\n",
       "      <td>662</td>\n",
       "      <td>892</td>\n",
       "    </tr>\n",
       "    <tr>\n",
       "      <th>8</th>\n",
       "      <td>9781464171703</td>\n",
       "      <td>ABNORMAL PSYCHOLOGY</td>\n",
       "      <td>RONALD J COMER</td>\n",
       "      <td>WORTH PUBLISHERS</td>\n",
       "      <td>Macmillan Higher Education</td>\n",
       "      <td>33</td>\n",
       "      <td>699</td>\n",
       "      <td>852</td>\n",
       "    </tr>\n",
       "  </tbody>\n",
       "</table>\n",
       "</div>"
      ],
      "text/plain": [
       "            ISBN                                       title  \\\n",
       "0  9781429219617                           BIOLOGY OF PLANTS   \n",
       "1  9781429242301                      INTRODUCING PSYCHOLOGY   \n",
       "2  9781429298643                LIFE: THE SCIENCE OF BIOLOGY   \n",
       "3  9781429298902          PSYCHOLOGY: A CONCISE INTRODUCTION   \n",
       "4  9781464126147  MOLECULAR BIOLOGY: PRINCIPLES AND PRACTICE   \n",
       "5  9781464135958            WHAT IS LIFE? A GUIDE TO BIOLOGY   \n",
       "6  9781464140815                                  PSYCHOLOGY   \n",
       "7  9781464154072                        EXPLORING PSYCHOLOGY   \n",
       "8  9781464171703                         ABNORMAL PSYCHOLOGY   \n",
       "\n",
       "              author           imprint                     sold_by  \\\n",
       "0      PETER H RAVEN     FREEMAN/WORTH  Macmillan Higher Education   \n",
       "1  DANIEL L SCHACTER     FREEMAN/WORTH  Macmillan Higher Education   \n",
       "2     DAVID E SADAVA     FREEMAN/WORTH  Macmillan Higher Education   \n",
       "3   RICHARD A GRIGGS  WORTH PUBLISHERS  Macmillan Higher Education   \n",
       "4      MICHAEL M COX     W. H. FREEMAN  Macmillan Higher Education   \n",
       "5         JAY PHELAN     FREEMAN/WORTH  Macmillan Higher Education   \n",
       "6      DAVID G MYERS     FREEMAN/WORTH  Macmillan Higher Education   \n",
       "7      DAVID G MYERS  WORTH PUBLISHERS  Macmillan Higher Education   \n",
       "8     RONALD J COMER  WORTH PUBLISHERS  Macmillan Higher Education   \n",
       "\n",
       "   start_page  end_page  num_pages  \n",
       "0          21       747        863  \n",
       "1          38       526        616  \n",
       "2          51      1297       1447  \n",
       "3          22       464        545  \n",
       "4          30       828        934  \n",
       "5          34       718        773  \n",
       "6          59       751        985  \n",
       "7          59       662        892  \n",
       "8          33       699        852  "
      ]
     },
     "execution_count": 3,
     "metadata": {},
     "output_type": "execute_result"
    }
   ],
   "source": [
    "metadata = pd.read_csv(metadata_file, dtype = {'ISBN': 'str'})\n",
    "metadata['num_pages'] = [len(all_text[isbn]) for isbn in metadata['ISBN']]\n",
    "metadata"
   ]
  },
  {
   "cell_type": "code",
   "execution_count": 4,
   "metadata": {},
   "outputs": [],
   "source": [
    "isbn = '9781429242301'\n",
    "start_page = metadata.loc[metadata['ISBN'] == isbn, 'start_page'].values[0]\n",
    "end_page = metadata.loc[metadata['ISBN'] == isbn, 'end_page'].values[0]\n",
    "\n",
    "text = all_text[isbn][(start_page-1):(end_page)]\n",
    "text = ' '.join(text)"
   ]
  },
  {
   "cell_type": "code",
   "execution_count": 15,
   "metadata": {
    "collapsed": true
   },
   "outputs": [],
   "source": [
    "doc = nlp(text)"
   ]
  },
  {
   "cell_type": "code",
   "execution_count": 27,
   "metadata": {},
   "outputs": [
    {
     "name": "stdout",
     "output_type": "stream",
     "text": [
      "Psychology\n",
      "1 䉱 Psychology’s Roots:\n",
      "['1', '䉱', 'psychology', '’s', 'root', ':']\n"
     ]
    }
   ],
   "source": [
    "token = doc[2]\n",
    "print(token)\n",
    "sentence = next(doc.sents)\n",
    "print(sentence)\n",
    "print([word.lemma_ for word in sentence])"
   ]
  },
  {
   "cell_type": "code",
   "execution_count": 25,
   "metadata": {},
   "outputs": [],
   "source": [
    "test_text = \"President Obama called Wednesday on Congress to extend a tax break\"\\\n",
    "    \" for students included in last year's economic stimulus package,\"\\\n",
    "    \" arguing that the policy provides more generous assistance\"\n",
    "annotations = spotlight.annotate(spotlight_server,\n",
    "                                 test_text,\n",
    "                                 confidence=0.4, support=20)"
   ]
  },
  {
   "cell_type": "code",
   "execution_count": 26,
   "metadata": {
    "scrolled": true
   },
   "outputs": [
    {
     "data": {
      "text/plain": [
       "[{'URI': 'http://dbpedia.org/resource/President_of_the_United_States',\n",
       "  'offset': 0,\n",
       "  'percentageOfSecondRank': 0.008381875965542296,\n",
       "  'similarityScore': 0.9907347787815642,\n",
       "  'support': 33769,\n",
       "  'surfaceForm': 'President',\n",
       "  'types': ''},\n",
       " {'URI': 'http://dbpedia.org/resource/United_States_Congress',\n",
       "  'offset': 36,\n",
       "  'percentageOfSecondRank': 0.0033682306283999795,\n",
       "  'similarityScore': 0.9951933315366982,\n",
       "  'support': 19906,\n",
       "  'surfaceForm': 'Congress',\n",
       "  'types': 'DBpedia:Agent,Schema:Organization,DBpedia:Organisation,DBpedia:Legislature'},\n",
       " {'URI': 'http://dbpedia.org/resource/Tax',\n",
       "  'offset': 57,\n",
       "  'percentageOfSecondRank': 0.013863102398633843,\n",
       "  'similarityScore': 0.9762126993833549,\n",
       "  'support': 9470,\n",
       "  'surfaceForm': 'tax',\n",
       "  'types': ''},\n",
       " {'URI': 'http://dbpedia.org/resource/Economic_Stimulus_Act_of_2008',\n",
       "  'offset': 104,\n",
       "  'percentageOfSecondRank': 0.6035320849660459,\n",
       "  'similarityScore': 0.6236230719155123,\n",
       "  'support': 35,\n",
       "  'surfaceForm': 'economic stimulus',\n",
       "  'types': ''}]"
      ]
     },
     "execution_count": 26,
     "metadata": {},
     "output_type": "execute_result"
    }
   ],
   "source": [
    "annotations # doc[:100]"
   ]
  },
  {
   "cell_type": "code",
   "execution_count": null,
   "metadata": {
    "collapsed": true
   },
   "outputs": [],
   "source": []
  }
 ],
 "metadata": {
  "kernelspec": {
   "display_name": "Python 3",
   "language": "python",
   "name": "python3"
  },
  "language_info": {
   "codemirror_mode": {
    "name": "ipython",
    "version": 3
   },
   "file_extension": ".py",
   "mimetype": "text/x-python",
   "name": "python",
   "nbconvert_exporter": "python",
   "pygments_lexer": "ipython3",
   "version": "3.5.2"
  }
 },
 "nbformat": 4,
 "nbformat_minor": 2
}
