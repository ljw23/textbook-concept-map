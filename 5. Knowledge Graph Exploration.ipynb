{
 "cells": [
  {
   "cell_type": "code",
   "execution_count": 1,
   "metadata": {
    "collapsed": true
   },
   "outputs": [],
   "source": [
    "import os\n",
    "import pickle\n",
    "import pandas as pd\n",
    "from collections import Counter\n",
    "\n",
    "output_dir = 'output/'\n",
    "metadata_file = 'data/metadata.csv'\n",
    "annotations_file = 'data/annotations.pkl'"
   ]
  },
  {
   "cell_type": "markdown",
   "metadata": {},
   "source": [
    "## Load metadata"
   ]
  },
  {
   "cell_type": "code",
   "execution_count": 2,
   "metadata": {},
   "outputs": [
    {
     "data": {
      "text/html": [
       "<div>\n",
       "<table border=\"1\" class=\"dataframe\">\n",
       "  <thead>\n",
       "    <tr style=\"text-align: right;\">\n",
       "      <th></th>\n",
       "      <th>ISBN</th>\n",
       "      <th>title</th>\n",
       "      <th>author</th>\n",
       "      <th>subject</th>\n",
       "      <th>imprint</th>\n",
       "      <th>sold_by</th>\n",
       "      <th>start_page</th>\n",
       "      <th>end_page</th>\n",
       "    </tr>\n",
       "  </thead>\n",
       "  <tbody>\n",
       "    <tr>\n",
       "      <th>0</th>\n",
       "      <td>9781429219617</td>\n",
       "      <td>BIOLOGY OF PLANTS</td>\n",
       "      <td>PETER H RAVEN</td>\n",
       "      <td>BIOLOGY</td>\n",
       "      <td>FREEMAN/WORTH</td>\n",
       "      <td>Macmillan Higher Education</td>\n",
       "      <td>21</td>\n",
       "      <td>747</td>\n",
       "    </tr>\n",
       "    <tr>\n",
       "      <th>2</th>\n",
       "      <td>9781429298643</td>\n",
       "      <td>LIFE: THE SCIENCE OF BIOLOGY</td>\n",
       "      <td>DAVID E SADAVA</td>\n",
       "      <td>BIOLOGY</td>\n",
       "      <td>FREEMAN/WORTH</td>\n",
       "      <td>Macmillan Higher Education</td>\n",
       "      <td>51</td>\n",
       "      <td>1297</td>\n",
       "    </tr>\n",
       "    <tr>\n",
       "      <th>4</th>\n",
       "      <td>9781464126147</td>\n",
       "      <td>MOLECULAR BIOLOGY: PRINCIPLES AND PRACTICE</td>\n",
       "      <td>MICHAEL M COX</td>\n",
       "      <td>BIOLOGY</td>\n",
       "      <td>W. H. FREEMAN</td>\n",
       "      <td>Macmillan Higher Education</td>\n",
       "      <td>30</td>\n",
       "      <td>828</td>\n",
       "    </tr>\n",
       "    <tr>\n",
       "      <th>5</th>\n",
       "      <td>9781464135958</td>\n",
       "      <td>WHAT IS LIFE? A GUIDE TO BIOLOGY</td>\n",
       "      <td>JAY PHELAN</td>\n",
       "      <td>BIOLOGY</td>\n",
       "      <td>FREEMAN/WORTH</td>\n",
       "      <td>Macmillan Higher Education</td>\n",
       "      <td>34</td>\n",
       "      <td>718</td>\n",
       "    </tr>\n",
       "    <tr>\n",
       "      <th>1</th>\n",
       "      <td>9781429242301</td>\n",
       "      <td>INTRODUCING PSYCHOLOGY</td>\n",
       "      <td>DANIEL L SCHACTER</td>\n",
       "      <td>PSYCHOLOGY</td>\n",
       "      <td>FREEMAN/WORTH</td>\n",
       "      <td>Macmillan Higher Education</td>\n",
       "      <td>38</td>\n",
       "      <td>526</td>\n",
       "    </tr>\n",
       "    <tr>\n",
       "      <th>3</th>\n",
       "      <td>9781429298902</td>\n",
       "      <td>PSYCHOLOGY: A CONCISE INTRODUCTION</td>\n",
       "      <td>RICHARD A GRIGGS</td>\n",
       "      <td>PSYCHOLOGY</td>\n",
       "      <td>WORTH PUBLISHERS</td>\n",
       "      <td>Macmillan Higher Education</td>\n",
       "      <td>22</td>\n",
       "      <td>464</td>\n",
       "    </tr>\n",
       "    <tr>\n",
       "      <th>6</th>\n",
       "      <td>9781464140815</td>\n",
       "      <td>PSYCHOLOGY</td>\n",
       "      <td>DAVID G MYERS</td>\n",
       "      <td>PSYCHOLOGY</td>\n",
       "      <td>FREEMAN/WORTH</td>\n",
       "      <td>Macmillan Higher Education</td>\n",
       "      <td>59</td>\n",
       "      <td>751</td>\n",
       "    </tr>\n",
       "    <tr>\n",
       "      <th>7</th>\n",
       "      <td>9781464154072</td>\n",
       "      <td>EXPLORING PSYCHOLOGY</td>\n",
       "      <td>DAVID G MYERS</td>\n",
       "      <td>PSYCHOLOGY</td>\n",
       "      <td>WORTH PUBLISHERS</td>\n",
       "      <td>Macmillan Higher Education</td>\n",
       "      <td>59</td>\n",
       "      <td>662</td>\n",
       "    </tr>\n",
       "    <tr>\n",
       "      <th>8</th>\n",
       "      <td>9781464171703</td>\n",
       "      <td>ABNORMAL PSYCHOLOGY</td>\n",
       "      <td>RONALD J COMER</td>\n",
       "      <td>PSYCHOLOGY</td>\n",
       "      <td>WORTH PUBLISHERS</td>\n",
       "      <td>Macmillan Higher Education</td>\n",
       "      <td>33</td>\n",
       "      <td>699</td>\n",
       "    </tr>\n",
       "  </tbody>\n",
       "</table>\n",
       "</div>"
      ],
      "text/plain": [
       "            ISBN                                       title  \\\n",
       "0  9781429219617                           BIOLOGY OF PLANTS   \n",
       "2  9781429298643                LIFE: THE SCIENCE OF BIOLOGY   \n",
       "4  9781464126147  MOLECULAR BIOLOGY: PRINCIPLES AND PRACTICE   \n",
       "5  9781464135958            WHAT IS LIFE? A GUIDE TO BIOLOGY   \n",
       "1  9781429242301                      INTRODUCING PSYCHOLOGY   \n",
       "3  9781429298902          PSYCHOLOGY: A CONCISE INTRODUCTION   \n",
       "6  9781464140815                                  PSYCHOLOGY   \n",
       "7  9781464154072                        EXPLORING PSYCHOLOGY   \n",
       "8  9781464171703                         ABNORMAL PSYCHOLOGY   \n",
       "\n",
       "              author     subject           imprint  \\\n",
       "0      PETER H RAVEN     BIOLOGY     FREEMAN/WORTH   \n",
       "2     DAVID E SADAVA     BIOLOGY     FREEMAN/WORTH   \n",
       "4      MICHAEL M COX     BIOLOGY     W. H. FREEMAN   \n",
       "5         JAY PHELAN     BIOLOGY     FREEMAN/WORTH   \n",
       "1  DANIEL L SCHACTER  PSYCHOLOGY     FREEMAN/WORTH   \n",
       "3   RICHARD A GRIGGS  PSYCHOLOGY  WORTH PUBLISHERS   \n",
       "6      DAVID G MYERS  PSYCHOLOGY     FREEMAN/WORTH   \n",
       "7      DAVID G MYERS  PSYCHOLOGY  WORTH PUBLISHERS   \n",
       "8     RONALD J COMER  PSYCHOLOGY  WORTH PUBLISHERS   \n",
       "\n",
       "                      sold_by  start_page  end_page  \n",
       "0  Macmillan Higher Education          21       747  \n",
       "2  Macmillan Higher Education          51      1297  \n",
       "4  Macmillan Higher Education          30       828  \n",
       "5  Macmillan Higher Education          34       718  \n",
       "1  Macmillan Higher Education          38       526  \n",
       "3  Macmillan Higher Education          22       464  \n",
       "6  Macmillan Higher Education          59       751  \n",
       "7  Macmillan Higher Education          59       662  \n",
       "8  Macmillan Higher Education          33       699  "
      ]
     },
     "execution_count": 2,
     "metadata": {},
     "output_type": "execute_result"
    }
   ],
   "source": [
    "metadata = pd.read_csv(metadata_file, dtype = {'ISBN': 'str'})\n",
    "metadata = metadata.sort_values('subject')\n",
    "metadata"
   ]
  },
  {
   "cell_type": "markdown",
   "metadata": {},
   "source": [
    "## Load annotations"
   ]
  },
  {
   "cell_type": "code",
   "execution_count": 3,
   "metadata": {
    "collapsed": true
   },
   "outputs": [],
   "source": [
    "def extract_spotlight_concept(annotation):\n",
    "    return annotation['URI'].split('/resource/')[-1]\n",
    "\n",
    "def extract_spotlight_concept_and_location(annotation):\n",
    "    return annotation['URI'].split('/resource/')[-1], annotation['offset']\n",
    "\n",
    "isbns = metadata['ISBN']\n",
    "\n",
    "with open(annotations_file, 'rb') as fp:\n",
    "    annotations = pickle.load(fp) "
   ]
  },
  {
   "cell_type": "code",
   "execution_count": 4,
   "metadata": {},
   "outputs": [
    {
     "data": {
      "text/plain": [
       "{'URI': 'http://dbpedia.org/resource/Nymphaeaceae',\n",
       " 'offset': 142,\n",
       " 'percentageOfSecondRank': 0.0008415212982582426,\n",
       " 'similarityScore': 0.9991487251046055,\n",
       " 'support': 277,\n",
       " 'surfaceForm': 'water lily',\n",
       " 'types': 'DBpedia:Species,DBpedia:Eukaryote,DBpedia:Plant'}"
      ]
     },
     "execution_count": 4,
     "metadata": {},
     "output_type": "execute_result"
    }
   ],
   "source": [
    "annotations[isbns[0]][0]"
   ]
  },
  {
   "cell_type": "markdown",
   "metadata": {},
   "source": [
    "## Extract concepts"
   ]
  },
  {
   "cell_type": "code",
   "execution_count": 5,
   "metadata": {
    "collapsed": true
   },
   "outputs": [],
   "source": [
    "concepts_df = pd.DataFrame()\n",
    "for isbn in isbns:\n",
    "    concepts = [extract_spotlight_concept(ann) for ann in annotations[isbn]]\n",
    "    freq = Counter(concepts)\n",
    "    concepts, counts = zip(*freq.items())\n",
    "\n",
    "    concepts_df = concepts_df.append(\n",
    "        pd.DataFrame({\n",
    "                      'concept': list(concepts),\n",
    "                      'count': list(counts),\n",
    "                      'ISBN': isbn\n",
    "                    }))         \n",
    "\n",
    "concepts_df = concepts_df.sort_values('count', ascending=False)\n",
    "concepts_df = pd.merge(concepts_df, metadata, on='ISBN')"
   ]
  },
  {
   "cell_type": "markdown",
   "metadata": {},
   "source": [
    "## Top Concepts"
   ]
  },
  {
   "cell_type": "code",
   "execution_count": 6,
   "metadata": {},
   "outputs": [
    {
     "name": "stdout",
     "output_type": "stream",
     "text": [
      "Top 10 concepts for: BIOLOGY OF PLANTS\n",
      "Meristem\n",
      "Protein\n",
      "Xylem\n",
      "DNA\n",
      "Micrometre\n",
      "Fungus\n",
      "Chloroplast\n",
      "Gametophyte\n",
      "Flowering_plant\n",
      "Phloem\n",
      "\n",
      "\n",
      "Top 10 concepts for: LIFE: THE SCIENCE OF BIOLOGY\n",
      "Protein\n",
      "DNA\n",
      "Enzyme\n",
      "Gene\n",
      "Oxygen\n",
      "Adenosine_triphosphate\n",
      "Bacteria\n",
      "Amino_acid\n",
      "Eukaryote\n",
      "Cell_membrane\n",
      "\n",
      "\n",
      "Top 10 concepts for: MOLECULAR BIOLOGY: PRINCIPLES AND PRACTICE\n",
      "DNA\n",
      "Protein\n",
      "Messenger_RNA\n",
      "RNA\n",
      "Transcription_(genetics)\n",
      "Eukaryote\n",
      "Gene\n",
      "Enzyme\n",
      "Transfer_RNA\n",
      "Nucleotide\n",
      "\n",
      "\n",
      "Top 10 concepts for: WHAT IS LIFE? A GUIDE TO BIOLOGY\n",
      "DNA\n",
      "Allele\n",
      "Bacteria\n",
      "Protein\n",
      "Free_On-line_Dictionary_of_Computing/E_-_H\n",
      "Ampere\n",
      "Chromosome\n",
      "Gene\n",
      "Eukaryote\n",
      "Natural_selection\n",
      "\n",
      "\n",
      "Top 10 concepts for: INTRODUCING PSYCHOLOGY\n",
      "Neuron\n",
      "Psychology\n",
      "Anxiety\n",
      "Psychotherapy\n",
      "Classical_conditioning\n",
      "Neurotransmitter\n",
      "Axon\n",
      "Schizophrenia\n",
      "Retina\n",
      "Amygdala\n",
      "\n",
      "\n",
      "Top 10 concepts for: PSYCHOLOGY: A CONCISE INTRODUCTION\n",
      "Neuron\n",
      "Classical_conditioning\n",
      "Schizophrenia\n",
      "Operant_conditioning\n",
      "Long-term_memory\n",
      "Retina\n",
      "Heuristic\n",
      "Anxiety\n",
      "Major_depressive_disorder\n",
      "Placebo\n",
      "\n",
      "\n",
      "Top 10 concepts for: PSYCHOLOGY\n",
      "Psychology\n",
      "Anxiety\n",
      "Schizophrenia\n",
      "Major_depressive_disorder\n",
      "Depression_(mood)\n",
      "Neuron\n",
      "Hormone\n",
      "Happiness\n",
      "Psychotherapy\n",
      "Neurotransmitter\n",
      "\n",
      "\n",
      "Top 10 concepts for: EXPLORING PSYCHOLOGY\n",
      "Information_technology\n",
      "Psychology\n",
      "Anxiety\n",
      "Major_depressive_disorder\n",
      "Depression_(mood)\n",
      "Schizophrenia\n",
      "Neuron\n",
      "Self-esteem\n",
      "Hormone\n",
      "Test_(assessment)\n",
      "\n",
      "\n",
      "Top 10 concepts for: ABNORMAL PSYCHOLOGY\n",
      "Schizophrenia\n",
      "Major_depressive_disorder\n",
      "Anxiety\n",
      "United_States\n",
      "Depression_(mood)\n",
      "Mental_disorder\n",
      "Personality_disorder\n",
      "Diagnostic_and_Statistical_Manual_of_Mental_Disorders\n",
      "Neurotransmitter\n",
      "Psychodynamics\n",
      "\n",
      "\n"
     ]
    }
   ],
   "source": [
    "for isbn in isbns:\n",
    "    print('Top 10 concepts for: {}'.format(metadata.loc[metadata['ISBN']==isbn, 'title'].values[0]))    \n",
    "    isbn_concepts = concepts_df[concepts_df['ISBN'] == isbn]\n",
    "    top_concepts = isbn_concepts.head(10)['concept']              \n",
    "    print('\\n'.join(top_concepts))\n",
    "    print('\\n')"
   ]
  },
  {
   "cell_type": "markdown",
   "metadata": {},
   "source": [
    "## Textbook correlation heatmap"
   ]
  },
  {
   "cell_type": "code",
   "execution_count": 7,
   "metadata": {
    "collapsed": true
   },
   "outputs": [],
   "source": [
    "count_matrix = concepts_df.pivot_table(index='concept', \n",
    "                                       columns='title',\n",
    "                                       values='count',\n",
    "                                       fill_value=0)\n",
    "count_matrix = count_matrix[metadata['title']]"
   ]
  },
  {
   "cell_type": "code",
   "execution_count": 8,
   "metadata": {
    "collapsed": true
   },
   "outputs": [],
   "source": [
    "corr_matrix = count_matrix.corr()"
   ]
  },
  {
   "cell_type": "code",
   "execution_count": 9,
   "metadata": {},
   "outputs": [
    {
     "data": {
      "image/png": "[encoded data removed]",
      "text/plain": [
       "<matplotlib.figure.Figure at 0x7fe904a139e8>"
      ]
     },
     "metadata": {},
     "output_type": "display_data"
    }
   ],
   "source": [
    "import matplotlib.pyplot as plt\n",
    "import seaborn as sns\n",
    "%matplotlib inline\n",
    "\n",
    "ax = sns.heatmap(corr_matrix, cmap='coolwarm')"
   ]
  }
 ],
 "metadata": {
  "kernelspec": {
   "display_name": "Python 3",
   "language": "python",
   "name": "python3"
  },
  "language_info": {
   "codemirror_mode": {
    "name": "ipython",
    "version": 3
   },
   "file_extension": ".py",
   "mimetype": "text/x-python",
   "name": "python",
   "nbconvert_exporter": "python",
   "pygments_lexer": "ipython3",
   "version": "3.5.2"
  }
 },
 "nbformat": 4,
 "nbformat_minor": 2
}
