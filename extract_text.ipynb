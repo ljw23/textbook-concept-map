{
 "cells": [
  {
   "cell_type": "code",
   "execution_count": 1,
   "metadata": {},
   "outputs": [],
   "source": [
    "import os\n",
    "import re\n",
    "import io\n",
    "import pickle\n",
    "import pandas as pd\n",
    "\n",
    "from pdfminer.pdfparser import PDFParser\n",
    "from pdfminer.pdfdocument import PDFDocument\n",
    "\n",
    "from pdfminer.pdfinterp import PDFResourceManager, PDFPageInterpreter\n",
    "from pdfminer.converter import TextConverter\n",
    "from pdfminer.layout import LAParams\n",
    "from pdfminer.pdfpage import PDFPage"
   ]
  },
  {
   "cell_type": "code",
   "execution_count": 2,
   "metadata": {
    "collapsed": true
   },
   "outputs": [],
   "source": [
    "input_dir = 'textbooks/'\n",
    "metadata_file = 'metadata.csv'\n",
    "\n",
    "metadata = pd.read_csv(metadata_file)\n",
    "\n",
    "isbns = os.listdir(input_dir)"
   ]
  },
  {
   "cell_type": "code",
   "execution_count": 3,
   "metadata": {
    "collapsed": true
   },
   "outputs": [],
   "source": [
    "# Functions for extracting data from the PDFs\n",
    "def normalize_whitespace(s):\n",
    "    return re.sub(r'\\s+', ' ', s) \n",
    "\n",
    "def get_toc(pdf_path):\n",
    "    infile = open(pdf_path, 'rb')\n",
    "    parser = PDFParser(infile)\n",
    "    document = PDFDocument(parser)\n",
    "\n",
    "    toc = list()\n",
    "    for (level, title, dest, a, structelem) in document.get_outlines():\n",
    "        toc.append((level, title))\n",
    "\n",
    "    return toc\n",
    "\n",
    "def convert_pdf_to_txt(pdf_path):\n",
    "    rsrcmgr = PDFResourceManager()\n",
    "    retstr = io.StringIO()\n",
    "    codec = 'utf-8'\n",
    "    laparams = LAParams()\n",
    "    device = TextConverter(rsrcmgr, retstr, codec=codec, laparams=laparams)\n",
    "    fp = open(pdf_path, 'rb')\n",
    "    interpreter = PDFPageInterpreter(rsrcmgr, device)\n",
    "    password = \"\"\n",
    "    caching = True\n",
    "\n",
    "    pages_text = []\n",
    "    for page in PDFPage.get_pages(fp, set(), \n",
    "                                  maxpages=0,\n",
    "                                  password=password,\n",
    "                                  caching=caching,\n",
    "                                  check_extractable=True):    \n",
    "        # Get (and store) the \"cursor\" position of stream before reading from PDF\n",
    "        # On the first page, this will be zero\n",
    "        read_position = retstr.tell()\n",
    "\n",
    "        # Read PDF page, write text into stream\n",
    "        interpreter.process_page(page)\n",
    "\n",
    "        # Move the \"cursor\" to the position stored\n",
    "        retstr.seek(read_position, 0)\n",
    "\n",
    "        # Read the text (from the \"cursor\" to the end)\n",
    "        page_text = retstr.read()\n",
    "\n",
    "        # Add this page's text to a convenient list\n",
    "        pages_text.append(normalize_whitespace(page_text))\n",
    "\n",
    "    fp.close()\n",
    "    device.close()\n",
    "    retstr.close()\n",
    "    \n",
    "    return(pages_text)"
   ]
  },
  {
   "cell_type": "code",
   "execution_count": 4,
   "metadata": {},
   "outputs": [
    {
     "name": "stdout",
     "output_type": "stream",
     "text": [
      "Extracting text for ISBN: 9781429219617\n",
      "Extracting table of contents for ISBN: 9781429242301\n",
      "Extracting text for ISBN: 9781429242301\n",
      "Extracting table of contents for ISBN: 9781429298643\n",
      "Extracting text for ISBN: 9781429298643\n",
      "Extracting table of contents for ISBN: 9781429298902\n",
      "Extracting text for ISBN: 9781429298902\n",
      "Extracting table of contents for ISBN: 9781464126147\n",
      "Extracting text for ISBN: 9781464126147\n",
      "Extracting table of contents for ISBN: 9781464135958\n",
      "Extracting text for ISBN: 9781464135958\n",
      "Extracting table of contents for ISBN: 9781464140815\n",
      "Extracting text for ISBN: 9781464140815\n",
      "Extracting table of contents for ISBN: 9781464154072\n",
      "Extracting text for ISBN: 9781464154072\n",
      "Extracting table of contents for ISBN: 9781464171703\n",
      "Extracting text for ISBN: 9781464171703\n"
     ]
    }
   ],
   "source": [
    "toc_file = 'toc.pkl'\n",
    "text_file = 'text.pkl'\n",
    "\n",
    "for isbn in isbns:\n",
    "    \n",
    "    isbn_dir = os.path.join(input_dir, isbn)\n",
    "    isbn_files = os.listdir(isbn_dir)\n",
    "    # Filter to PDFs\n",
    "    pdf_files = [fn for fn in isbn_files if re.search('.pdf', fn)]\n",
    "    pdf_file = pdf_files[0]\n",
    "\n",
    "    filepath = os.path.join(isbn_dir, pdf_file)\n",
    "\n",
    "    if toc_file not in isbn_files:\n",
    "        # Get the table of contents\n",
    "        print(\"Extracting table of contents for ISBN: {}\".format(isbn))\n",
    "        toc = get_toc(filepath)        \n",
    "        with open(os.path.join(isbn_dir, toc_file), 'wb') as fp:\n",
    "            pickle.dump(toc, fp, protocol=pickle.HIGHEST_PROTOCOL)\n",
    "    \n",
    "    if text_file not in isbn_files:\n",
    "        # Extract the text from the PDF\n",
    "        print(\"Extracting text for ISBN: {}\".format(isbn))\n",
    "        text_list = convert_pdf_to_txt(filepath)        \n",
    "        with open(os.path.join(isbn_dir, text_file), 'wb') as fp:\n",
    "            pickle.dump(text_list, fp, protocol=pickle.HIGHEST_PROTOCOL)     "
   ]
  }
 ],
 "metadata": {
  "kernelspec": {
   "display_name": "Python 3",
   "language": "python",
   "name": "python3"
  },
  "language_info": {
   "codemirror_mode": {
    "name": "ipython",
    "version": 3
   },
   "file_extension": ".py",
   "mimetype": "text/x-python",
   "name": "python",
   "nbconvert_exporter": "python",
   "pygments_lexer": "ipython3",
   "version": "3.5.2"
  }
 },
 "nbformat": 4,
 "nbformat_minor": 1
}
